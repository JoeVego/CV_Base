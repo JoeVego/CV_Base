{
 "cells": [
  {
   "cell_type": "markdown",
   "id": "3dbf460a",
   "metadata": {},
   "source": [
    "![title](resources/pics/1_MSE.png)"
   ]
  },
  {
   "cell_type": "code",
   "execution_count": 4,
   "id": "8fcc7c18",
   "metadata": {},
   "outputs": [],
   "source": [
    "import numpy as np"
   ]
  },
  {
   "cell_type": "code",
   "execution_count": 5,
   "id": "6c692985",
   "metadata": {},
   "outputs": [],
   "source": [
    "y_true = [3, -0.5, 2, 7]\n",
    "y_pred = [2.5, 0.0, 2, 8]\n",
    "\n",
    "y_true1 = [[0.5, 1],\n",
    "           [-1, 1],\n",
    "           [7, -6]]\n",
    "y_pred1 = [[0, 2],\n",
    "           [-1, 2],\n",
    "           [8, -5]]"
   ]
  },
  {
   "cell_type": "code",
   "execution_count": 6,
   "id": "ec518a2e",
   "metadata": {},
   "outputs": [],
   "source": [
    "def get_dims_of_list(somelist):\n",
    "    np_array = np.array(somelist)\n",
    "    return len(np.shape(np_array))"
   ]
  },
  {
   "cell_type": "code",
   "execution_count": 7,
   "id": "212ce5f8",
   "metadata": {},
   "outputs": [],
   "source": [
    "def mean_squared_err(true, pred):\n",
    "    counter = 0\n",
    "    sum_of_diffs = 0\n",
    "    num_of_elems = get_dims_of_list(true)\n",
    "    \n",
    "    if num_of_elems == 1:\n",
    "        list_size = len(true)\n",
    "        \n",
    "        while counter < list_size:\n",
    "            diff = pred[counter] - true[counter]\n",
    "            diff = diff * diff\n",
    "            sum_of_diffs += diff\n",
    "            counter += 1\n",
    "        result = sum_of_diffs / list_size\n",
    "        \n",
    "        \n",
    "            \n",
    "    elif num_of_elems == 2:\n",
    "        sec_counter = 0\n",
    "        rows = len(pred)\n",
    "        cols = len(pred[0])\n",
    "        \n",
    "        while counter < rows:\n",
    "            while sec_counter < cols:\n",
    "                diff = pred[counter][sec_counter] - true[counter][sec_counter]\n",
    "                diff = diff * diff\n",
    "                sum_of_diffs += diff\n",
    "                sec_counter = sec_counter + 1\n",
    "            sec_counter = 0\n",
    "            counter = counter + 1\n",
    "        \n",
    "        \n",
    "        result = sum_of_diffs / (rows * cols)\n",
    "    return result"
   ]
  },
  {
   "cell_type": "code",
   "execution_count": 8,
   "id": "3513fe9b",
   "metadata": {},
   "outputs": [
    {
     "data": {
      "text/plain": [
       "0.7083333333333334"
      ]
     },
     "execution_count": 8,
     "metadata": {},
     "output_type": "execute_result"
    }
   ],
   "source": [
    "mean_squared_err(y_true1, y_pred1)"
   ]
  },
  {
   "cell_type": "code",
   "execution_count": 9,
   "id": "eca4446e",
   "metadata": {},
   "outputs": [
    {
     "data": {
      "text/plain": [
       "0.375"
      ]
     },
     "execution_count": 9,
     "metadata": {},
     "output_type": "execute_result"
    }
   ],
   "source": [
    "mean_squared_err(y_true, y_pred)"
   ]
  }
 ],
 "metadata": {
  "kernelspec": {
   "display_name": "Python 3 (ipykernel)",
   "language": "python",
   "name": "python3"
  },
  "language_info": {
   "codemirror_mode": {
    "name": "ipython",
    "version": 3
   },
   "file_extension": ".py",
   "mimetype": "text/x-python",
   "name": "python",
   "nbconvert_exporter": "python",
   "pygments_lexer": "ipython3",
   "version": "3.11.5"
  }
 },
 "nbformat": 4,
 "nbformat_minor": 5
}
