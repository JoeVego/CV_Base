{
 "cells": [
  {
   "cell_type": "code",
   "execution_count": 1,
   "id": "d3dbceb0",
   "metadata": {},
   "outputs": [],
   "source": [
    "import numpy as np"
   ]
  },
  {
   "cell_type": "code",
   "execution_count": 2,
   "id": "bf95f365",
   "metadata": {},
   "outputs": [],
   "source": [
    "m1 = np.array([[1, 2, 3], [4, 5, 6]], np.int32)"
   ]
  },
  {
   "cell_type": "code",
   "execution_count": 3,
   "id": "b47a2205",
   "metadata": {},
   "outputs": [
    {
     "data": {
      "text/plain": [
       "array([[1, 2, 3],\n",
       "       [4, 5, 6]])"
      ]
     },
     "execution_count": 3,
     "metadata": {},
     "output_type": "execute_result"
    }
   ],
   "source": [
    "m1"
   ]
  },
  {
   "cell_type": "code",
   "execution_count": 4,
   "id": "77a88723",
   "metadata": {},
   "outputs": [],
   "source": [
    "m2 = np.array([[10, 11], [12, 13], [14, 15]], np.int32)"
   ]
  },
  {
   "cell_type": "code",
   "execution_count": 5,
   "id": "818a388e",
   "metadata": {},
   "outputs": [
    {
     "data": {
      "text/plain": [
       "array([[10, 11],\n",
       "       [12, 13],\n",
       "       [14, 15]])"
      ]
     },
     "execution_count": 5,
     "metadata": {},
     "output_type": "execute_result"
    }
   ],
   "source": [
    "m2"
   ]
  },
  {
   "cell_type": "code",
   "execution_count": 6,
   "id": "986e308b",
   "metadata": {},
   "outputs": [
    {
     "name": "stdout",
     "output_type": "stream",
     "text": [
      "elem1 = 1 0 0\n",
      "elem2 = 10 0 0\n",
      "result = 10 \n",
      "\n",
      "elem1 = 2 0 1\n",
      "elem2 = 12 1 0\n",
      "result = 24 \n",
      "\n",
      "elem1 = 3 0 2\n",
      "elem2 = 14 2 0\n",
      "result = 42 \n",
      "\n",
      "elem1 = 4 1 0\n",
      "elem2 = 11 0 1\n",
      "result = 44 \n",
      "\n",
      "elem1 = 5 1 1\n",
      "elem2 = 13 1 1\n",
      "result = 65 \n",
      "\n",
      "elem1 = 6 1 2\n",
      "elem2 = 15 2 1\n",
      "result = 90 \n",
      "\n"
     ]
    }
   ],
   "source": [
    "#првоерить что столбцы = строки или наоборот\n",
    "first_rows = m1.shape[0]\n",
    "first_columns = m1.shape[1]\n",
    "\n",
    "sec_rows = m2.shape[0]\n",
    "sec_columns = m2.shape[1]\n",
    "# print(first_rows, first_columns, sec_rows, sec_columns)\n",
    "if(first_columns != sec_rows):\n",
    "    raise Exception(\"Not match !\")\n",
    "# res_m = np.array(first_rows, sec_columns)\n",
    "\n",
    "#тут типа код выбора размерности, но сейчас возьму на глаз\n",
    "\n",
    "for i in range(first_rows):\n",
    "    for j in range(sec_rows):\n",
    "        elem1 = m1[i][j]\n",
    "        elem2 = m2[j][i]\n",
    "        print(\"elem1 =\", elem1, i, j)\n",
    "        print(\"elem2 =\",elem2, j, i)\n",
    "    \n",
    "        res = elem1 * elem2\n",
    "        print(\"result =\", res, \"\\n\")"
   ]
  },
  {
   "cell_type": "code",
   "execution_count": null,
   "id": "c619b8ec",
   "metadata": {},
   "outputs": [],
   "source": []
  }
 ],
 "metadata": {
  "kernelspec": {
   "display_name": "Python 3 (ipykernel)",
   "language": "python",
   "name": "python3"
  },
  "language_info": {
   "codemirror_mode": {
    "name": "ipython",
    "version": 3
   },
   "file_extension": ".py",
   "mimetype": "text/x-python",
   "name": "python",
   "nbconvert_exporter": "python",
   "pygments_lexer": "ipython3",
   "version": "3.11.5"
  }
 },
 "nbformat": 4,
 "nbformat_minor": 5
}
