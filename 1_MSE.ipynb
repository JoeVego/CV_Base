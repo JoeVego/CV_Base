{
 "cells": [
  {
   "cell_type": "markdown",
   "id": "3dbf460a",
   "metadata": {},
   "source": [
    "![title](resources/pics/1_MSE.png)"
   ]
  },
  {
   "cell_type": "code",
   "execution_count": 23,
   "id": "8fcc7c18",
   "metadata": {},
   "outputs": [],
   "source": [
    "import numpy as np"
   ]
  },
  {
   "cell_type": "code",
   "execution_count": 24,
   "id": "6c692985",
   "metadata": {},
   "outputs": [],
   "source": [
    "y_true = [3, -0.5, 2, 7]\n",
    "y_pred = [2.5, 0.0, 2, 8]\n",
    "\n",
    "y_true1 = [[0.5, 1],[-1, 1],[7, -6]]\n",
    "y_pred1 = [[0, 2],[-1, 2],[8, -5]]"
   ]
  },
  {
   "cell_type": "code",
   "execution_count": 25,
   "id": "d0b459ab",
   "metadata": {},
   "outputs": [],
   "source": [
    "def get_dims_of_list(somelist):\n",
    "    np_array = np.array(somelist)\n",
    "    return len(np.shape(np_array))"
   ]
  },
  {
   "cell_type": "code",
   "execution_count": 49,
   "id": "212ce5f8",
   "metadata": {},
   "outputs": [],
   "source": [
    "def mean_squared_err(true, pred):\n",
    "    counter = 0\n",
    "    sum_of_diffs = 0\n",
    "    num_of_elems = get_dims_of_list(true)\n",
    "    \n",
    "    if num_of_elems == 1:\n",
    "        list_size = len(true)\n",
    "        \n",
    "        while counter < list_size:\n",
    "            diff = pred[counter] - true[counter]\n",
    "            diff = diff * diff\n",
    "            sum_of_diffs += diff\n",
    "            counter += 1\n",
    "        result = sum_of_diffs / list_size\n",
    "        \n",
    "        \n",
    "            \n",
    "    elif num_of_elems == 2:\n",
    "        sec_counter = 0\n",
    "        rows = len(true[0])\n",
    "        cols = len(true[1])\n",
    "        print(\"rows\", rows, \"cols\", cols)\n",
    "        \n",
    "        while counter <= rows:\n",
    "            while sec_counter <= cols:\n",
    "                print(\"counter =\", counter, \", sec_counter = \", sec_counter)\n",
    "                diff = pred[counter][sec_counter] - true[counter][sec_counter]\n",
    "                diff = diff * diff\n",
    "                sum_of_diffs += diff\n",
    "                sec_counter += 1\n",
    "            counter += 1\n",
    "        \n",
    "        \n",
    "        result = sum_of_diffs / (rows * cols)\n",
    "    print(result)"
   ]
  },
  {
   "cell_type": "code",
   "execution_count": 50,
   "id": "3513fe9b",
   "metadata": {},
   "outputs": [
    {
     "name": "stdout",
     "output_type": "stream",
     "text": [
      "rows 2 cols 2\n",
      "counter = 0 , sec_counter =  0\n",
      "counter = 0 , sec_counter =  1\n",
      "counter = 0 , sec_counter =  2\n"
     ]
    },
    {
     "ename": "IndexError",
     "evalue": "list index out of range",
     "output_type": "error",
     "traceback": [
      "\u001b[1;31m---------------------------------------------------------------------------\u001b[0m",
      "\u001b[1;31mIndexError\u001b[0m                                Traceback (most recent call last)",
      "Cell \u001b[1;32mIn[50], line 1\u001b[0m\n\u001b[1;32m----> 1\u001b[0m mean_squared_err(y_true1, y_pred1)\n",
      "Cell \u001b[1;32mIn[49], line 27\u001b[0m, in \u001b[0;36mmean_squared_err\u001b[1;34m(true, pred)\u001b[0m\n\u001b[0;32m     25\u001b[0m \u001b[38;5;28;01mwhile\u001b[39;00m sec_counter \u001b[38;5;241m<\u001b[39m\u001b[38;5;241m=\u001b[39m cols:\n\u001b[0;32m     26\u001b[0m     \u001b[38;5;28mprint\u001b[39m(\u001b[38;5;124m\"\u001b[39m\u001b[38;5;124mcounter =\u001b[39m\u001b[38;5;124m\"\u001b[39m, counter, \u001b[38;5;124m\"\u001b[39m\u001b[38;5;124m, sec_counter = \u001b[39m\u001b[38;5;124m\"\u001b[39m, sec_counter)\n\u001b[1;32m---> 27\u001b[0m     diff \u001b[38;5;241m=\u001b[39m pred[counter][sec_counter] \u001b[38;5;241m-\u001b[39m true[counter][sec_counter]\n\u001b[0;32m     28\u001b[0m     diff \u001b[38;5;241m=\u001b[39m diff \u001b[38;5;241m*\u001b[39m diff\n\u001b[0;32m     29\u001b[0m     sum_of_diffs \u001b[38;5;241m+\u001b[39m\u001b[38;5;241m=\u001b[39m diff\n",
      "\u001b[1;31mIndexError\u001b[0m: list index out of range"
     ]
    }
   ],
   "source": [
    "mean_squared_err(y_true1, y_pred1)"
   ]
  },
  {
   "cell_type": "code",
   "execution_count": 32,
   "id": "eca4446e",
   "metadata": {},
   "outputs": [
    {
     "ename": "TypeError",
     "evalue": "object of type 'int' has no len()",
     "output_type": "error",
     "traceback": [
      "\u001b[1;31m---------------------------------------------------------------------------\u001b[0m",
      "\u001b[1;31mTypeError\u001b[0m                                 Traceback (most recent call last)",
      "Cell \u001b[1;32mIn[32], line 1\u001b[0m\n\u001b[1;32m----> 1\u001b[0m \u001b[38;5;28mprint\u001b[39m(\u001b[38;5;28mlen\u001b[39m(y_true[\u001b[38;5;241m0\u001b[39m]))\n",
      "\u001b[1;31mTypeError\u001b[0m: object of type 'int' has no len()"
     ]
    }
   ],
   "source": [
    "print(len(y_true[0]))"
   ]
  },
  {
   "cell_type": "code",
   "execution_count": 33,
   "id": "9c3c4d6a",
   "metadata": {},
   "outputs": [],
   "source": [
    "y_true = [[0.5, 1],[-1, 1],[7, -6]]\n",
    "y_pred = [[0, 2],[-1, 2],[8, -5]]"
   ]
  },
  {
   "cell_type": "code",
   "execution_count": 34,
   "id": "f19080be",
   "metadata": {},
   "outputs": [
    {
     "name": "stdout",
     "output_type": "stream",
     "text": [
      "2\n"
     ]
    }
   ],
   "source": [
    "print(len(y_true[0]))"
   ]
  },
  {
   "cell_type": "code",
   "execution_count": 35,
   "id": "8a4d5534",
   "metadata": {},
   "outputs": [
    {
     "ename": "TypeError",
     "evalue": "unsupported operand type(s) for -: 'list' and 'list'",
     "output_type": "error",
     "traceback": [
      "\u001b[1;31m---------------------------------------------------------------------------\u001b[0m",
      "\u001b[1;31mTypeError\u001b[0m                                 Traceback (most recent call last)",
      "Cell \u001b[1;32mIn[35], line 1\u001b[0m\n\u001b[1;32m----> 1\u001b[0m mean_squared_err(y_true, y_pred)\n",
      "Cell \u001b[1;32mIn[30], line 7\u001b[0m, in \u001b[0;36mmean_squared_err\u001b[1;34m(y_true, y_pred)\u001b[0m\n\u001b[0;32m      4\u001b[0m num_of_elems \u001b[38;5;241m=\u001b[39m \u001b[38;5;28mlen\u001b[39m(y_true)\n\u001b[0;32m      6\u001b[0m \u001b[38;5;28;01mwhile\u001b[39;00m counter \u001b[38;5;241m<\u001b[39m num_of_elems:\n\u001b[1;32m----> 7\u001b[0m     diff \u001b[38;5;241m=\u001b[39m y_pred[counter] \u001b[38;5;241m-\u001b[39m y_true[counter]\n\u001b[0;32m      8\u001b[0m     diff \u001b[38;5;241m=\u001b[39m diff \u001b[38;5;241m*\u001b[39m diff\n\u001b[0;32m      9\u001b[0m     sum_of_diffs \u001b[38;5;241m+\u001b[39m\u001b[38;5;241m=\u001b[39m diff\n",
      "\u001b[1;31mTypeError\u001b[0m: unsupported operand type(s) for -: 'list' and 'list'"
     ]
    }
   ],
   "source": [
    "mean_squared_err(y_true, y_pred)"
   ]
  },
  {
   "cell_type": "code",
   "execution_count": null,
   "id": "836fcd26",
   "metadata": {},
   "outputs": [],
   "source": []
  }
 ],
 "metadata": {
  "kernelspec": {
   "display_name": "Python 3 (ipykernel)",
   "language": "python",
   "name": "python3"
  },
  "language_info": {
   "codemirror_mode": {
    "name": "ipython",
    "version": 3
   },
   "file_extension": ".py",
   "mimetype": "text/x-python",
   "name": "python",
   "nbconvert_exporter": "python",
   "pygments_lexer": "ipython3",
   "version": "3.11.5"
  }
 },
 "nbformat": 4,
 "nbformat_minor": 5
}
