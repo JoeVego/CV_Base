{
 "cells": [
  {
   "cell_type": "markdown",
   "id": "3dbf460a",
   "metadata": {},
   "source": [
    "![title](resources/pics/1_MSE.png)"
   ]
  },
  {
   "cell_type": "code",
   "execution_count": 36,
   "id": "8fcc7c18",
   "metadata": {},
   "outputs": [],
   "source": [
    "import numpy as np"
   ]
  },
  {
   "cell_type": "code",
   "execution_count": 37,
   "id": "6c692985",
   "metadata": {},
   "outputs": [],
   "source": [
    "y_true = [3, -0.5, 2, 7]\n",
    "y_pred = [2.5, 0.0, 2, 8]"
   ]
  },
  {
   "cell_type": "code",
   "execution_count": 38,
   "id": "212ce5f8",
   "metadata": {},
   "outputs": [],
   "source": [
    "def mean_squared_err(y_true, y_pred):\n",
    "    counter = 0\n",
    "    sum_of_diffs = 0\n",
    "    num_of_elems = len(y_true)\n",
    "    \n",
    "    while counter < num_of_elems:\n",
    "        diff = y_pred[counter] - y_true[counter]\n",
    "        diff = diff * diff\n",
    "        sum_of_diffs += diff\n",
    "        counter += 1\n",
    "        \n",
    "    result = sum_of_diffs / num_of_elems\n",
    "    print(result)"
   ]
  },
  {
   "cell_type": "code",
   "execution_count": 53,
   "id": "35b0dfae",
   "metadata": {},
   "outputs": [],
   "source": [
    "def get_dims_of_list(somelist):\n",
    "    np_array = np.array(somelist)\n",
    "    print(np.shape(np_array))\n",
    "    return np.shape(np_array)"
   ]
  },
  {
   "cell_type": "code",
   "execution_count": 57,
   "id": "6a001bce",
   "metadata": {},
   "outputs": [
    {
     "name": "stdout",
     "output_type": "stream",
     "text": [
      "(4,)\n"
     ]
    },
    {
     "ename": "IndexError",
     "evalue": "tuple index out of range",
     "output_type": "error",
     "traceback": [
      "\u001b[1;31m---------------------------------------------------------------------------\u001b[0m",
      "\u001b[1;31mIndexError\u001b[0m                                Traceback (most recent call last)",
      "Cell \u001b[1;32mIn[57], line 2\u001b[0m\n\u001b[0;32m      1\u001b[0m my_trpl \u001b[38;5;241m=\u001b[39m get_dims_of_list(y_pred)\n\u001b[1;32m----> 2\u001b[0m \u001b[38;5;28mprint\u001b[39m(my_trpl[\u001b[38;5;241m1\u001b[39m])\n",
      "\u001b[1;31mIndexError\u001b[0m: tuple index out of range"
     ]
    }
   ],
   "source": [
    "my_trpl = get_dims_of_list(y_pred)\n",
    "print(my_trpl[1])"
   ]
  },
  {
   "cell_type": "code",
   "execution_count": 31,
   "id": "3513fe9b",
   "metadata": {},
   "outputs": [
    {
     "name": "stdout",
     "output_type": "stream",
     "text": [
      "0.375\n"
     ]
    }
   ],
   "source": [
    "mean_squared_err(y_true, y_pred)"
   ]
  },
  {
   "cell_type": "code",
   "execution_count": 32,
   "id": "eca4446e",
   "metadata": {},
   "outputs": [
    {
     "ename": "TypeError",
     "evalue": "object of type 'int' has no len()",
     "output_type": "error",
     "traceback": [
      "\u001b[1;31m---------------------------------------------------------------------------\u001b[0m",
      "\u001b[1;31mTypeError\u001b[0m                                 Traceback (most recent call last)",
      "Cell \u001b[1;32mIn[32], line 1\u001b[0m\n\u001b[1;32m----> 1\u001b[0m \u001b[38;5;28mprint\u001b[39m(\u001b[38;5;28mlen\u001b[39m(y_true[\u001b[38;5;241m0\u001b[39m]))\n",
      "\u001b[1;31mTypeError\u001b[0m: object of type 'int' has no len()"
     ]
    }
   ],
   "source": [
    "print(len(y_true[0]))"
   ]
  },
  {
   "cell_type": "code",
   "execution_count": 33,
   "id": "9c3c4d6a",
   "metadata": {},
   "outputs": [],
   "source": [
    "y_true = [[0.5, 1],[-1, 1],[7, -6]]\n",
    "y_pred = [[0, 2],[-1, 2],[8, -5]]"
   ]
  },
  {
   "cell_type": "code",
   "execution_count": 34,
   "id": "f19080be",
   "metadata": {},
   "outputs": [
    {
     "name": "stdout",
     "output_type": "stream",
     "text": [
      "2\n"
     ]
    }
   ],
   "source": [
    "print(len(y_true[0]))"
   ]
  },
  {
   "cell_type": "code",
   "execution_count": 35,
   "id": "8a4d5534",
   "metadata": {},
   "outputs": [
    {
     "ename": "TypeError",
     "evalue": "unsupported operand type(s) for -: 'list' and 'list'",
     "output_type": "error",
     "traceback": [
      "\u001b[1;31m---------------------------------------------------------------------------\u001b[0m",
      "\u001b[1;31mTypeError\u001b[0m                                 Traceback (most recent call last)",
      "Cell \u001b[1;32mIn[35], line 1\u001b[0m\n\u001b[1;32m----> 1\u001b[0m mean_squared_err(y_true, y_pred)\n",
      "Cell \u001b[1;32mIn[30], line 7\u001b[0m, in \u001b[0;36mmean_squared_err\u001b[1;34m(y_true, y_pred)\u001b[0m\n\u001b[0;32m      4\u001b[0m num_of_elems \u001b[38;5;241m=\u001b[39m \u001b[38;5;28mlen\u001b[39m(y_true)\n\u001b[0;32m      6\u001b[0m \u001b[38;5;28;01mwhile\u001b[39;00m counter \u001b[38;5;241m<\u001b[39m num_of_elems:\n\u001b[1;32m----> 7\u001b[0m     diff \u001b[38;5;241m=\u001b[39m y_pred[counter] \u001b[38;5;241m-\u001b[39m y_true[counter]\n\u001b[0;32m      8\u001b[0m     diff \u001b[38;5;241m=\u001b[39m diff \u001b[38;5;241m*\u001b[39m diff\n\u001b[0;32m      9\u001b[0m     sum_of_diffs \u001b[38;5;241m+\u001b[39m\u001b[38;5;241m=\u001b[39m diff\n",
      "\u001b[1;31mTypeError\u001b[0m: unsupported operand type(s) for -: 'list' and 'list'"
     ]
    }
   ],
   "source": [
    "mean_squared_err(y_true, y_pred)"
   ]
  },
  {
   "cell_type": "code",
   "execution_count": null,
   "id": "836fcd26",
   "metadata": {},
   "outputs": [],
   "source": []
  }
 ],
 "metadata": {
  "kernelspec": {
   "display_name": "Python 3 (ipykernel)",
   "language": "python",
   "name": "python3"
  },
  "language_info": {
   "codemirror_mode": {
    "name": "ipython",
    "version": 3
   },
   "file_extension": ".py",
   "mimetype": "text/x-python",
   "name": "python",
   "nbconvert_exporter": "python",
   "pygments_lexer": "ipython3",
   "version": "3.11.5"
  }
 },
 "nbformat": 4,
 "nbformat_minor": 5
}
