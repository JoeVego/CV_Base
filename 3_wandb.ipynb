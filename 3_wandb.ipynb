{
 "cells": [
  {
   "cell_type": "code",
   "execution_count": 4,
   "id": "78393250",
   "metadata": {},
   "outputs": [],
   "source": [
    "import wandb\n",
    "\n",
    "class WandBLog():\n",
    "    def __init__(self, model):\n",
    "        wandb.init()\n",
    "        wandb.watch(model)\n",
    "\n",
    "    def getWandB(self):\n",
    "        return wandb\n",
    "\n",
    "    # def log(self, name, parametr):\n",
    "    #     self({name : })\n",
    "    #     wandb.log({\"mean val loss:\": numpy.mean(val_loss)})"
   ]
  },
  {
   "cell_type": "markdown",
   "id": "b3d8c67f",
   "metadata": {},
   "source": [
    "Использование в коде : wandb = WandBLog(earth_model)"
   ]
  }
 ],
 "metadata": {
  "kernelspec": {
   "display_name": "Python 3 (ipykernel)",
   "language": "python",
   "name": "python3"
  },
  "language_info": {
   "codemirror_mode": {
    "name": "ipython",
    "version": 3
   },
   "file_extension": ".py",
   "mimetype": "text/x-python",
   "name": "python",
   "nbconvert_exporter": "python",
   "pygments_lexer": "ipython3",
   "version": "3.11.5"
  }
 },
 "nbformat": 4,
 "nbformat_minor": 5
}
