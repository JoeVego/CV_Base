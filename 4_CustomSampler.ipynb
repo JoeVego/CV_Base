{
 "cells": [
  {
   "cell_type": "code",
   "execution_count": 1,
   "id": "24490c9a",
   "metadata": {},
   "outputs": [],
   "source": [
    "import torch\n",
    "from torch.utils.data import SequentialSampler\n",
    "\n",
    "\n",
    "class TestSampler(torch.utils.data.SequentialSampler):\n",
    "    \"\"\"Мой семплер, чтобы получать числа для тестовой выборки с номера 638 и далее\"\"\"\n",
    "\n",
    "    def __init__(self, data_source, start_num):\n",
    "        \"\"\"конструктор\n",
    "        @data_source - источник данных dataset to sample from\n",
    "        @start_num - номер с которого начнем перебирать значения\n",
    "        \"\"\"\n",
    "        self.data_source = data_source\n",
    "        self.len = len(data_source)\n",
    "        # print(\"len = \", self.len)\n",
    "        self.start_num = start_num\n",
    "        # print(\"start_num = \", self.start_num)\n",
    "\n",
    "    def __iter__(self):\n",
    "        \"\"\"возвращает итератор выборок в этом наборе данных\"\"\"\n",
    "        return iter(range(self.start_num, self.start_num + self.len))\n",
    "\n",
    "    def __len__(self):\n",
    "        return self.len\n",
    "\n",
    "    def printState(self):\n",
    "        print(\"len =\", self.len,\n",
    "              \"start_num =\", self.start_num)"
   ]
  },
  {
   "cell_type": "code",
   "execution_count": null,
   "id": "63c8300e",
   "metadata": {},
   "outputs": [],
   "source": []
  }
 ],
 "metadata": {
  "kernelspec": {
   "display_name": "Python 3 (ipykernel)",
   "language": "python",
   "name": "python3"
  },
  "language_info": {
   "codemirror_mode": {
    "name": "ipython",
    "version": 3
   },
   "file_extension": ".py",
   "mimetype": "text/x-python",
   "name": "python",
   "nbconvert_exporter": "python",
   "pygments_lexer": "ipython3",
   "version": "3.11.5"
  }
 },
 "nbformat": 4,
 "nbformat_minor": 5
}
