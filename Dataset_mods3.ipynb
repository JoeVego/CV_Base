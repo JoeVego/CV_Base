{
 "cells": [
  {
   "cell_type": "markdown",
   "id": "3322c06b",
   "metadata": {},
   "source": [
    "Разделить ДС на папки: input(все пикчи), preds(???), target(ответы json), тест (валид пикчи)"
   ]
  },
  {
   "cell_type": "code",
   "execution_count": 24,
   "id": "deaf35b8",
   "metadata": {},
   "outputs": [],
   "source": [
    "ds_path = \"C:\\\\Users\\\\Admin\\\\PycharmProjects\\\\my_FRCNN\\\\data\"\n",
    "source_dir = ds_path + \"\\\\valid2\\\\valid\""
   ]
  },
  {
   "cell_type": "code",
   "execution_count": 25,
   "id": "27298b57",
   "metadata": {},
   "outputs": [
    {
     "data": {
      "text/plain": [
       "'C:\\\\Users\\\\Admin\\\\PycharmProjects\\\\my_FRCNN\\\\data\\\\valid2\\\\valid'"
      ]
     },
     "execution_count": 25,
     "metadata": {},
     "output_type": "execute_result"
    }
   ],
   "source": [
    "import os\n",
    "import json\n",
    "import shutil\n",
    "\n",
    "os.chdir(source_dir)\n",
    "os.getcwd()"
   ]
  },
  {
   "cell_type": "code",
   "execution_count": 26,
   "id": "c34a7445",
   "metadata": {},
   "outputs": [],
   "source": [
    "input_dir = ds_path  + \"\\\\input\"\n",
    "target_dir = ds_path + \"\\\\target\"\n",
    "test_dir = ds_path   + \"\\\\test\""
   ]
  },
  {
   "cell_type": "code",
   "execution_count": 29,
   "id": "1707a28d",
   "metadata": {},
   "outputs": [
    {
     "name": "stdout",
     "output_type": "stream",
     "text": [
      "['10244', '10247', '10404', '10555', '10581']\n"
     ]
    }
   ],
   "source": [
    "file_names = os.listdir(source_dir)\n",
    "errs = []\n",
    "    \n",
    "for file_name in file_names:\n",
    "    \n",
    "    if file_name[-3:] == \"jpg\":\n",
    "#         print(\"jpeg\", file_name)\n",
    "        src_img = source_dir + \"\\\\\" + file_name\n",
    "        new_dir = input_dir + \"\\\\\" + file_name\n",
    "#         print(\"src_img\", src_img)\n",
    "        shutil.move(src_img, new_dir)\n",
    "    \n",
    "    elif file_name[-4 : ] == \"json\":\n",
    "#         print(\"json\", file_name)\n",
    "        ann_img = source_dir + \"\\\\\" + file_name\n",
    "        new_dir = target_dir + \"\\\\\" + file_name\n",
    "#         print(\"ann_img\", ann_img)\n",
    "        shutil.move(ann_img, new_dir)\n",
    "    \n",
    "    else:\n",
    "        errs.append(file_name)\n",
    "    \n",
    "#     shutil.move(os.path.join(source_dir, file_name), target_dir)\n",
    "print(errs)"
   ]
  },
  {
   "cell_type": "code",
   "execution_count": null,
   "id": "ea788c9f",
   "metadata": {},
   "outputs": [],
   "source": []
  }
 ],
 "metadata": {
  "kernelspec": {
   "display_name": "Python 3 (ipykernel)",
   "language": "python",
   "name": "python3"
  },
  "language_info": {
   "codemirror_mode": {
    "name": "ipython",
    "version": 3
   },
   "file_extension": ".py",
   "mimetype": "text/x-python",
   "name": "python",
   "nbconvert_exporter": "python",
   "pygments_lexer": "ipython3",
   "version": "3.10.9"
  }
 },
 "nbformat": 4,
 "nbformat_minor": 5
}
