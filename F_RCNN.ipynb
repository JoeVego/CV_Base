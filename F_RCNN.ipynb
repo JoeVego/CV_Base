{
  "nbformat": 4,
  "nbformat_minor": 0,
  "metadata": {
    "colab": {
      "provenance": []
    },
    "kernelspec": {
      "name": "python3",
      "display_name": "Python 3"
    },
    "language_info": {
      "name": "python"
    }
  },
  "cells": [
    {
      "cell_type": "markdown",
      "source": [
        "https://pytorch.org/vision/stable/models/faster_rcnn.html"
      ],
      "metadata": {
        "id": "EcvVDNoDuLBk"
      }
    },
    {
      "cell_type": "code",
      "execution_count": null,
      "metadata": {
        "id": "zXVOwv0qj3ps",
        "colab": {
          "base_uri": "https://localhost:8080/"
        },
        "outputId": "f499925b-be31-4936-a0cb-867d6b9e8571"
      },
      "outputs": [
        {
          "output_type": "stream",
          "name": "stderr",
          "text": [
            "/usr/local/lib/python3.10/dist-packages/torchvision/utils.py:224: UserWarning: Argument 'font_size' will be ignored since 'font' is not set.\n",
            "  warnings.warn(\"Argument 'font_size' will be ignored since 'font' is not set.\")\n"
          ]
        }
      ],
      "source": [
        "from torchvision.io.image import read_image\n",
        "from torchvision.models.detection import fasterrcnn_resnet50_fpn_v2, FasterRCNN_ResNet50_FPN_V2_Weights\n",
        "from torchvision.utils import draw_bounding_boxes\n",
        "from torchvision.transforms.functional import to_pil_image, pil_to_tensor\n",
        "from google.colab import files\n",
        "from PIL import Image\n",
        "\n",
        "# img = read_image(\"test/assets/encode_jpeg/grace_hopper_517x606.jpg\")\n",
        "img = Image.open(str(\"/content/buba.jpg\"))\n",
        "img = pil_to_tensor(img)\n",
        "\n",
        "# Step 1: Initialize model with the best available weights\n",
        "weights = FasterRCNN_ResNet50_FPN_V2_Weights.DEFAULT\n",
        "model = fasterrcnn_resnet50_fpn_v2(weights=weights, box_score_thresh=0.9)\n",
        "model.eval()\n",
        "\n",
        "# Step 2: Initialize the inference transforms\n",
        "preprocess = weights.transforms()\n",
        "\n",
        "# Step 3: Apply inference preprocessing transforms\n",
        "batch = [preprocess(img)]\n",
        "\n",
        "# Step 4: Use the model and visualize the prediction\n",
        "prediction = model(batch)[0]\n",
        "labels = [weights.meta[\"categories\"][i] for i in prediction[\"labels\"]]\n",
        "box = draw_bounding_boxes(img, boxes=prediction[\"boxes\"],\n",
        "                          labels=labels,\n",
        "                          colors=\"red\",\n",
        "                          width=4, font_size=30)\n",
        "im = to_pil_image(box.detach())\n",
        "im.show()"
      ]
    }
  ]
}